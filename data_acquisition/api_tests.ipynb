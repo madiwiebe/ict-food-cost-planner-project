{
 "cells": [
  {
   "cell_type": "code",
   "execution_count": 1,
   "metadata": {},
   "outputs": [],
   "source": [
    "import requests\n",
    "import json"
   ]
  },
  {
   "cell_type": "code",
   "execution_count": 5,
   "metadata": {},
   "outputs": [
    {
     "name": "stdout",
     "output_type": "stream",
     "text": [
      "{'status': 'SUCCESS', 'object': 'https://www150.statcan.gc.ca/n1/tbl/csv/14100287-eng.zip'}\n"
     ]
    }
   ],
   "source": [
    "url = 'https://www150.statcan.gc.ca/t1/wds/rest/getFullTableDownloadCSV/14100287/en'\n",
    "\n",
    "params = {\n",
    "}\n",
    "\n",
    "api_result = requests.get(url=url, params=params)\n",
    "\n",
    "api_response = api_result.json()\n",
    "\n",
    "print(api_response)"
   ]
  },
  {
   "cell_type": "markdown",
   "metadata": {},
   "source": [
    "# Retrieve time series data for montht"
   ]
  },
  {
   "cell_type": "code",
   "execution_count": 3,
   "metadata": {},
   "outputs": [
    {
     "name": "stdout",
     "output_type": "stream",
     "text": [
      "{'status': 'SUCCESS', 'object': 'https://www150.statcan.gc.ca/n1/tbl/csv/18100245-eng.zip'}\n"
     ]
    }
   ],
   "source": [
    "# retrieve data for monthly average retail prices for selected products (table id # 1810024501)\n",
    "url1 = 'https://www150.statcan.gc.ca/t1/wds/rest/getFullTableDownloadCSV/18100245/en'\n",
    "\n",
    "params = {\n",
    "}\n",
    "\n",
    "api_result = requests.get(url=url1, params=params)\n",
    "\n",
    "api_response = api_result.json()\n",
    "\n",
    "print(api_response)"
   ]
  },
  {
   "cell_type": "code",
   "execution_count": 4,
   "metadata": {},
   "outputs": [
    {
     "name": "stdout",
     "output_type": "stream",
     "text": [
      "{'status': 'SUCCESS', 'object': 'https://www150.statcan.gc.ca/n1/tbl/csv/32100077-eng.zip'}\n"
     ]
    }
   ],
   "source": [
    "# retrieve data for farm product prices, crops and livestock (table id # 3210007701)\n",
    "url2 = 'https://www150.statcan.gc.ca/t1/wds/rest/getFullTableDownloadCSV/32100077/en'\n",
    "\n",
    "params = {\n",
    "}\n",
    "\n",
    "api_result = requests.get(url=url2, params=params)\n",
    "\n",
    "api_response = api_result.json()\n",
    "\n",
    "print(api_response)"
   ]
  },
  {
   "cell_type": "code",
   "execution_count": null,
   "metadata": {},
   "outputs": [],
   "source": [
    "# retrieve data for meat, fruits/veg\n",
    "# no API resource for AgriCanada"
   ]
  },
  {
   "cell_type": "code",
   "execution_count": null,
   "metadata": {},
   "outputs": [],
   "source": [
    "# POST URL = 'https://www150.statcan.gc.ca/t1/wds/rest/getDataFromVectorsAndLatestNPeriods'\n",
    "\n",
    "# POST BODY = [{\"vectorId\":1353834271, \"latestN\":3}]\n",
    "\n",
    "# Both methods return the same results."
   ]
  },
  {
   "cell_type": "markdown",
   "metadata": {},
   "source": [
    "Ideas about what functions/features the tool will have:\n",
    "- predict cost fluctuations in food products\n",
    "    - Clarify: what LOD? Category or individual products? (individual products would not be a comprehensive resource; not all ingredients are available with StatsCan database)\n",
    "    - If prediction at the categorical level:\n",
    "        - users would input their menu items, including ingredients\n",
    "            - if the user has an ingredient not listed in our database, they can simply select its category\n",
    "        - we will use Stats Canada retail database to predict monthly price average for its selected products\n",
    "        \n",
    "        - our tool would break down their menu into weighted average by category (30% wheat products, 25% protein, etc)\n",
    "\n",
    "- two stages of analysis:\n",
    "    - time-series prediction:\n",
    "        - use historic product price data to predict fluctuations in monthly average cost\n",
    "    - farm product price data:\n",
    "        - track changes in supplier sale prices\n",
    "        - if suppliers start selling at higher/lower price points, that percentage change will also be applied to our tool's predicted product price\n"
   ]
  },
  {
   "cell_type": "code",
   "execution_count": null,
   "metadata": {},
   "outputs": [],
   "source": []
  }
 ],
 "metadata": {
  "kernelspec": {
   "display_name": "lhl_env",
   "language": "python",
   "name": "python3"
  },
  "language_info": {
   "codemirror_mode": {
    "name": "ipython",
    "version": 3
   },
   "file_extension": ".py",
   "mimetype": "text/x-python",
   "name": "python",
   "nbconvert_exporter": "python",
   "pygments_lexer": "ipython3",
   "version": "3.11.5"
  }
 },
 "nbformat": 4,
 "nbformat_minor": 2
}
