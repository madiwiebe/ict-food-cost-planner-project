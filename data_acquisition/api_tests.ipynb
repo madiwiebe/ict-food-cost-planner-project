{
 "cells": [
  {
   "cell_type": "code",
   "execution_count": 3,
   "metadata": {},
   "outputs": [],
   "source": [
    "import requests\n",
    "import json\n",
    "import stats_can as sc"
   ]
  },
  {
   "cell_type": "markdown",
   "metadata": {},
   "source": [
    "Note: to install the stats_can library, I used Anaconda Prompt with the following command:\n",
    "\n",
    "    conda install -c conda-forge stats_can\n",
    "\n",
    "other documentation on this library: https://stats-can.readthedocs.io/en/latest/ "
   ]
  },
  {
   "cell_type": "code",
   "execution_count": 5,
   "metadata": {},
   "outputs": [
    {
     "name": "stdout",
     "output_type": "stream",
     "text": [
      "{'status': 'SUCCESS', 'object': 'https://www150.statcan.gc.ca/n1/tbl/csv/14100287-eng.zip'}\n"
     ]
    }
   ],
   "source": [
    "# test api access with the url provided in documentation\n",
    "url = 'https://www150.statcan.gc.ca/t1/wds/rest/getFullTableDownloadCSV/14100287/en'\n",
    "\n",
    "params = {\n",
    "}\n",
    "\n",
    "api_result = requests.get(url=url, params=params)\n",
    "\n",
    "api_response = api_result.json()\n",
    "\n",
    "print(api_response)"
   ]
  },
  {
   "cell_type": "markdown",
   "metadata": {},
   "source": [
    "### Retrieve time series data for monthly retail averages (MRA)\n",
    "- use fulltabledownloadcsv end point with MRA table ID"
   ]
  },
  {
   "cell_type": "code",
   "execution_count": 3,
   "metadata": {},
   "outputs": [
    {
     "name": "stdout",
     "output_type": "stream",
     "text": [
      "{'status': 'SUCCESS', 'object': 'https://www150.statcan.gc.ca/n1/tbl/csv/18100245-eng.zip'}\n"
     ]
    }
   ],
   "source": [
    "# retrieve data for monthly average retail prices for selected products (table id # 1810024501)\n",
    "url1 = 'https://www150.statcan.gc.ca/t1/wds/rest/getFullTableDownloadCSV/18100245/en'\n",
    "\n",
    "params = {\n",
    "}\n",
    "\n",
    "api_result = requests.get(url=url1, params=params)\n",
    "\n",
    "api_response = api_result.json()\n",
    "\n",
    "print(api_response)"
   ]
  },
  {
   "cell_type": "code",
   "execution_count": 4,
   "metadata": {},
   "outputs": [
    {
     "name": "stdout",
     "output_type": "stream",
     "text": [
      "{'status': 'SUCCESS', 'object': 'https://www150.statcan.gc.ca/n1/tbl/csv/32100077-eng.zip'}\n"
     ]
    }
   ],
   "source": [
    "# retrieve data for farm product prices, crops and livestock (table id # 3210007701)\n",
    "url2 = 'https://www150.statcan.gc.ca/t1/wds/rest/getFullTableDownloadCSV/32100077/en'\n",
    "\n",
    "params = {\n",
    "}\n",
    "\n",
    "api_result = requests.get(url=url2, params=params)\n",
    "\n",
    "api_response = api_result.json()\n",
    "\n",
    "print(api_response)"
   ]
  },
  {
   "cell_type": "code",
   "execution_count": null,
   "metadata": {},
   "outputs": [],
   "source": [
    "# retrieve data for meat, fruits/veg\n",
    "# no API resource for AgriCanada"
   ]
  },
  {
   "cell_type": "markdown",
   "metadata": {},
   "source": [
    "### Attempt to download specific time period data using \"getDataFromVectorsAndLatestNPeriods\" endpoint"
   ]
  },
  {
   "cell_type": "code",
   "execution_count": null,
   "metadata": {},
   "outputs": [],
   "source": [
    "# retrieve changed data for specific products (target using VectorID) over a specific time period\n",
    "\n",
    "# POST URL = 'https://www150.statcan.gc.ca/t1/wds/rest/getDataFromVectorsAndLatestNPeriods'\n",
    "\n",
    "# POST BODY = [{\"vectorId\":1353834271, \"latestN\":3}]\n"
   ]
  },
  {
   "cell_type": "markdown",
   "metadata": {},
   "source": [
    "### Attempt to download data using stats_can module instead of the API\n"
   ]
  },
  {
   "cell_type": "code",
   "execution_count": 4,
   "metadata": {},
   "outputs": [
    {
     "name": "stdout",
     "output_type": "stream",
     "text": [
      "Downloading and loading table_18100245\n"
     ]
    },
    {
     "name": "stderr",
     "output_type": "stream",
     "text": [
      "18100245-eng.zip: 100%|██████████| 1.16M/1.16M [00:04<00:00, 278kB/s]\n"
     ]
    }
   ],
   "source": [
    "# download same MRA table as when using API method above, using full table ID\n",
    "scdf = sc.table_to_df(\"181-002-45-01\")"
   ]
  },
  {
   "cell_type": "code",
   "execution_count": 5,
   "metadata": {},
   "outputs": [
    {
     "data": {
      "text/html": [
       "<div>\n",
       "<style scoped>\n",
       "    .dataframe tbody tr th:only-of-type {\n",
       "        vertical-align: middle;\n",
       "    }\n",
       "\n",
       "    .dataframe tbody tr th {\n",
       "        vertical-align: top;\n",
       "    }\n",
       "\n",
       "    .dataframe thead th {\n",
       "        text-align: right;\n",
       "    }\n",
       "</style>\n",
       "<table border=\"1\" class=\"dataframe\">\n",
       "  <thead>\n",
       "    <tr style=\"text-align: right;\">\n",
       "      <th></th>\n",
       "      <th>REF_DATE</th>\n",
       "      <th>GEO</th>\n",
       "      <th>DGUID</th>\n",
       "      <th>Products</th>\n",
       "      <th>UOM</th>\n",
       "      <th>UOM_ID</th>\n",
       "      <th>SCALAR_FACTOR</th>\n",
       "      <th>SCALAR_ID</th>\n",
       "      <th>VECTOR</th>\n",
       "      <th>COORDINATE</th>\n",
       "      <th>VALUE</th>\n",
       "      <th>STATUS</th>\n",
       "      <th>SYMBOL</th>\n",
       "      <th>TERMINATED</th>\n",
       "      <th>DECIMALS</th>\n",
       "    </tr>\n",
       "  </thead>\n",
       "  <tbody>\n",
       "    <tr>\n",
       "      <th>0</th>\n",
       "      <td>2017-01-01</td>\n",
       "      <td>Canada</td>\n",
       "      <td>2016A000011124</td>\n",
       "      <td>Beef stewing cuts, per kilogram</td>\n",
       "      <td>Dollars</td>\n",
       "      <td>81</td>\n",
       "      <td>units</td>\n",
       "      <td>0</td>\n",
       "      <td>v1353834271</td>\n",
       "      <td>11.1</td>\n",
       "      <td>12.66</td>\n",
       "      <td>NaN</td>\n",
       "      <td>NaN</td>\n",
       "      <td>NaN</td>\n",
       "      <td>2</td>\n",
       "    </tr>\n",
       "    <tr>\n",
       "      <th>1</th>\n",
       "      <td>2017-01-01</td>\n",
       "      <td>Canada</td>\n",
       "      <td>2016A000011124</td>\n",
       "      <td>Beef striploin cuts, per kilogram</td>\n",
       "      <td>Dollars</td>\n",
       "      <td>81</td>\n",
       "      <td>units</td>\n",
       "      <td>0</td>\n",
       "      <td>v1353834272</td>\n",
       "      <td>11.2</td>\n",
       "      <td>21.94</td>\n",
       "      <td>NaN</td>\n",
       "      <td>NaN</td>\n",
       "      <td>NaN</td>\n",
       "      <td>2</td>\n",
       "    </tr>\n",
       "    <tr>\n",
       "      <th>2</th>\n",
       "      <td>2017-01-01</td>\n",
       "      <td>Canada</td>\n",
       "      <td>2016A000011124</td>\n",
       "      <td>Beef top sirloin cuts, per kilogram</td>\n",
       "      <td>Dollars</td>\n",
       "      <td>81</td>\n",
       "      <td>units</td>\n",
       "      <td>0</td>\n",
       "      <td>v1353834273</td>\n",
       "      <td>11.3</td>\n",
       "      <td>13.44</td>\n",
       "      <td>NaN</td>\n",
       "      <td>NaN</td>\n",
       "      <td>NaN</td>\n",
       "      <td>2</td>\n",
       "    </tr>\n",
       "    <tr>\n",
       "      <th>3</th>\n",
       "      <td>2017-01-01</td>\n",
       "      <td>Canada</td>\n",
       "      <td>2016A000011124</td>\n",
       "      <td>Beef rib cuts, per kilogram</td>\n",
       "      <td>Dollars</td>\n",
       "      <td>81</td>\n",
       "      <td>units</td>\n",
       "      <td>0</td>\n",
       "      <td>v1353834311</td>\n",
       "      <td>11.41</td>\n",
       "      <td>20.17</td>\n",
       "      <td>NaN</td>\n",
       "      <td>NaN</td>\n",
       "      <td>NaN</td>\n",
       "      <td>2</td>\n",
       "    </tr>\n",
       "    <tr>\n",
       "      <th>4</th>\n",
       "      <td>2017-01-01</td>\n",
       "      <td>Canada</td>\n",
       "      <td>2016A000011124</td>\n",
       "      <td>Ground beef, per kilogram</td>\n",
       "      <td>Dollars</td>\n",
       "      <td>81</td>\n",
       "      <td>units</td>\n",
       "      <td>0</td>\n",
       "      <td>v1353834274</td>\n",
       "      <td>11.4</td>\n",
       "      <td>9.12</td>\n",
       "      <td>NaN</td>\n",
       "      <td>NaN</td>\n",
       "      <td>NaN</td>\n",
       "      <td>2</td>\n",
       "    </tr>\n",
       "  </tbody>\n",
       "</table>\n",
       "</div>"
      ],
      "text/plain": [
       "    REF_DATE     GEO           DGUID                             Products  \\\n",
       "0 2017-01-01  Canada  2016A000011124      Beef stewing cuts, per kilogram   \n",
       "1 2017-01-01  Canada  2016A000011124    Beef striploin cuts, per kilogram   \n",
       "2 2017-01-01  Canada  2016A000011124  Beef top sirloin cuts, per kilogram   \n",
       "3 2017-01-01  Canada  2016A000011124          Beef rib cuts, per kilogram   \n",
       "4 2017-01-01  Canada  2016A000011124            Ground beef, per kilogram   \n",
       "\n",
       "       UOM UOM_ID SCALAR_FACTOR SCALAR_ID       VECTOR COORDINATE  VALUE  \\\n",
       "0  Dollars     81         units         0  v1353834271       11.1  12.66   \n",
       "1  Dollars     81         units         0  v1353834272       11.2  21.94   \n",
       "2  Dollars     81         units         0  v1353834273       11.3  13.44   \n",
       "3  Dollars     81         units         0  v1353834311      11.41  20.17   \n",
       "4  Dollars     81         units         0  v1353834274       11.4   9.12   \n",
       "\n",
       "  STATUS SYMBOL TERMINATED DECIMALS  \n",
       "0    NaN    NaN        NaN        2  \n",
       "1    NaN    NaN        NaN        2  \n",
       "2    NaN    NaN        NaN        2  \n",
       "3    NaN    NaN        NaN        2  \n",
       "4    NaN    NaN        NaN        2  "
      ]
     },
     "execution_count": 5,
     "metadata": {},
     "output_type": "execute_result"
    }
   ],
   "source": [
    "scdf.head()"
   ]
  },
  {
   "cell_type": "markdown",
   "metadata": {},
   "source": [
    "Ideas about what functions/features the tool will have:\n",
    "- predict cost fluctuations in food products\n",
    "    - Clarify: what LOD? Category or individual products? (individual products would not be a comprehensive resource; not all ingredients are available with StatsCan database)\n",
    "    - If prediction at the categorical level:\n",
    "        - users would input their menu items, including ingredients\n",
    "            - if the user has an ingredient not listed in our database, they can simply select its category\n",
    "        - we will use Stats Canada retail database to predict monthly price average for its selected products\n",
    "        \n",
    "        - our tool would break down their menu into weighted average by category (30% wheat products, 25% protein, etc)\n",
    "\n",
    "- two stages of analysis:\n",
    "    - time-series prediction:\n",
    "        - use historic product price data to predict fluctuations in monthly average cost\n",
    "    - farm product price data:\n",
    "        - track changes in supplier sale prices\n",
    "        - if suppliers start selling at higher/lower price points, that percentage change will also be applied to our tool's predicted product price\n"
   ]
  },
  {
   "cell_type": "code",
   "execution_count": null,
   "metadata": {},
   "outputs": [],
   "source": []
  }
 ],
 "metadata": {
  "kernelspec": {
   "display_name": "lhl_env",
   "language": "python",
   "name": "python3"
  },
  "language_info": {
   "codemirror_mode": {
    "name": "ipython",
    "version": 3
   },
   "file_extension": ".py",
   "mimetype": "text/x-python",
   "name": "python",
   "nbconvert_exporter": "python",
   "pygments_lexer": "ipython3",
   "version": "3.11.5"
  }
 },
 "nbformat": 4,
 "nbformat_minor": 2
}
